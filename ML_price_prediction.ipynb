{
  "nbformat": 4,
  "nbformat_minor": 0,
  "metadata": {
    "colab": {
      "provenance": [],
      "authorship_tag": "ABX9TyOsnWLkc9W9j4SUsjIJm4JS",
      "include_colab_link": true
    },
    "kernelspec": {
      "name": "python3",
      "display_name": "Python 3"
    },
    "language_info": {
      "name": "python"
    }
  },
  "cells": [
    {
      "cell_type": "markdown",
      "metadata": {
        "id": "view-in-github",
        "colab_type": "text"
      },
      "source": [
        "<a href=\"https://colab.research.google.com/github/San-Maansson/Stock_Analysis/blob/main/ML_price_prediction.ipynb\" target=\"_parent\"><img src=\"https://colab.research.google.com/assets/colab-badge.svg\" alt=\"Open In Colab\"/></a>"
      ]
    },
    {
      "cell_type": "code",
      "execution_count": 31,
      "metadata": {
        "id": "MyXRg67iK0MB"
      },
      "outputs": [],
      "source": [
        "import numpy as np\n",
        "import matplotlib.pyplot as plt\n",
        "import pandas as pd\n",
        "import yfinance as web\n",
        "import datetime as dt"
      ]
    },
    {
      "cell_type": "code",
      "source": [
        "from sklearn.preprocessing import MinMaxScaler\n",
        "from keras.models import Sequential\n",
        "from keras.layers import Dense, Dropout, LSTM"
      ],
      "metadata": {
        "id": "nRVlvqFtK9N8"
      },
      "execution_count": 32,
      "outputs": []
    },
    {
      "cell_type": "code",
      "source": [
        "# Load Data\n",
        "company = \"INTC\"\n",
        "start = dt.datetime(2012,1,1)\n",
        "end = dt.datetime(2020,5,1)\n",
        "\n",
        "data = web.download(company, start, end)\n",
        "\n",
        "data.tail(10)"
      ],
      "metadata": {
        "colab": {
          "base_uri": "https://localhost:8080/",
          "height": 412
        },
        "id": "678QZ2ttL2Aq",
        "outputId": "a4367531-5d68-4087-d407-78629046a4e1"
      },
      "execution_count": 33,
      "outputs": [
        {
          "output_type": "stream",
          "name": "stdout",
          "text": [
            "\r[*********************100%***********************]  1 of 1 completed\n"
          ]
        },
        {
          "output_type": "execute_result",
          "data": {
            "text/plain": [
              "                 Open       High        Low      Close  Adj Close    Volume\n",
              "Date                                                                       \n",
              "2020-04-17  62.020000  62.130001  59.830002  60.360001  54.819431  27385600\n",
              "2020-04-20  59.279999  60.040001  58.889999  59.180000  53.747749  26420300\n",
              "2020-04-21  58.110001  58.599998  55.930000  56.360001  51.186600  25248000\n",
              "2020-04-22  58.270000  60.500000  57.810001  60.099998  54.583294  23350400\n",
              "2020-04-23  59.669998  60.099998  58.810001  59.040001  53.620598  35092000\n",
              "2020-04-24  56.200001  59.400002  56.099998  59.259998  53.820400  50187000\n",
              "2020-04-27  59.720001  59.830002  58.389999  59.470001  54.011127  25902200\n",
              "2020-04-28  59.990002  60.220001  58.259998  58.750000  53.357216  28784700\n",
              "2020-04-29  59.439999  62.029999  59.320000  61.799999  56.127251  30451500\n",
              "2020-04-30  61.369999  61.540001  59.750000  59.980000  54.474312  26279900"
            ],
            "text/html": [
              "\n",
              "  <div id=\"df-9b78f180-4bf3-4dfe-8c07-ae86e2528b04\">\n",
              "    <div class=\"colab-df-container\">\n",
              "      <div>\n",
              "<style scoped>\n",
              "    .dataframe tbody tr th:only-of-type {\n",
              "        vertical-align: middle;\n",
              "    }\n",
              "\n",
              "    .dataframe tbody tr th {\n",
              "        vertical-align: top;\n",
              "    }\n",
              "\n",
              "    .dataframe thead th {\n",
              "        text-align: right;\n",
              "    }\n",
              "</style>\n",
              "<table border=\"1\" class=\"dataframe\">\n",
              "  <thead>\n",
              "    <tr style=\"text-align: right;\">\n",
              "      <th></th>\n",
              "      <th>Open</th>\n",
              "      <th>High</th>\n",
              "      <th>Low</th>\n",
              "      <th>Close</th>\n",
              "      <th>Adj Close</th>\n",
              "      <th>Volume</th>\n",
              "    </tr>\n",
              "    <tr>\n",
              "      <th>Date</th>\n",
              "      <th></th>\n",
              "      <th></th>\n",
              "      <th></th>\n",
              "      <th></th>\n",
              "      <th></th>\n",
              "      <th></th>\n",
              "    </tr>\n",
              "  </thead>\n",
              "  <tbody>\n",
              "    <tr>\n",
              "      <th>2020-04-17</th>\n",
              "      <td>62.020000</td>\n",
              "      <td>62.130001</td>\n",
              "      <td>59.830002</td>\n",
              "      <td>60.360001</td>\n",
              "      <td>54.819431</td>\n",
              "      <td>27385600</td>\n",
              "    </tr>\n",
              "    <tr>\n",
              "      <th>2020-04-20</th>\n",
              "      <td>59.279999</td>\n",
              "      <td>60.040001</td>\n",
              "      <td>58.889999</td>\n",
              "      <td>59.180000</td>\n",
              "      <td>53.747749</td>\n",
              "      <td>26420300</td>\n",
              "    </tr>\n",
              "    <tr>\n",
              "      <th>2020-04-21</th>\n",
              "      <td>58.110001</td>\n",
              "      <td>58.599998</td>\n",
              "      <td>55.930000</td>\n",
              "      <td>56.360001</td>\n",
              "      <td>51.186600</td>\n",
              "      <td>25248000</td>\n",
              "    </tr>\n",
              "    <tr>\n",
              "      <th>2020-04-22</th>\n",
              "      <td>58.270000</td>\n",
              "      <td>60.500000</td>\n",
              "      <td>57.810001</td>\n",
              "      <td>60.099998</td>\n",
              "      <td>54.583294</td>\n",
              "      <td>23350400</td>\n",
              "    </tr>\n",
              "    <tr>\n",
              "      <th>2020-04-23</th>\n",
              "      <td>59.669998</td>\n",
              "      <td>60.099998</td>\n",
              "      <td>58.810001</td>\n",
              "      <td>59.040001</td>\n",
              "      <td>53.620598</td>\n",
              "      <td>35092000</td>\n",
              "    </tr>\n",
              "    <tr>\n",
              "      <th>2020-04-24</th>\n",
              "      <td>56.200001</td>\n",
              "      <td>59.400002</td>\n",
              "      <td>56.099998</td>\n",
              "      <td>59.259998</td>\n",
              "      <td>53.820400</td>\n",
              "      <td>50187000</td>\n",
              "    </tr>\n",
              "    <tr>\n",
              "      <th>2020-04-27</th>\n",
              "      <td>59.720001</td>\n",
              "      <td>59.830002</td>\n",
              "      <td>58.389999</td>\n",
              "      <td>59.470001</td>\n",
              "      <td>54.011127</td>\n",
              "      <td>25902200</td>\n",
              "    </tr>\n",
              "    <tr>\n",
              "      <th>2020-04-28</th>\n",
              "      <td>59.990002</td>\n",
              "      <td>60.220001</td>\n",
              "      <td>58.259998</td>\n",
              "      <td>58.750000</td>\n",
              "      <td>53.357216</td>\n",
              "      <td>28784700</td>\n",
              "    </tr>\n",
              "    <tr>\n",
              "      <th>2020-04-29</th>\n",
              "      <td>59.439999</td>\n",
              "      <td>62.029999</td>\n",
              "      <td>59.320000</td>\n",
              "      <td>61.799999</td>\n",
              "      <td>56.127251</td>\n",
              "      <td>30451500</td>\n",
              "    </tr>\n",
              "    <tr>\n",
              "      <th>2020-04-30</th>\n",
              "      <td>61.369999</td>\n",
              "      <td>61.540001</td>\n",
              "      <td>59.750000</td>\n",
              "      <td>59.980000</td>\n",
              "      <td>54.474312</td>\n",
              "      <td>26279900</td>\n",
              "    </tr>\n",
              "  </tbody>\n",
              "</table>\n",
              "</div>\n",
              "      <button class=\"colab-df-convert\" onclick=\"convertToInteractive('df-9b78f180-4bf3-4dfe-8c07-ae86e2528b04')\"\n",
              "              title=\"Convert this dataframe to an interactive table.\"\n",
              "              style=\"display:none;\">\n",
              "        \n",
              "  <svg xmlns=\"http://www.w3.org/2000/svg\" height=\"24px\"viewBox=\"0 0 24 24\"\n",
              "       width=\"24px\">\n",
              "    <path d=\"M0 0h24v24H0V0z\" fill=\"none\"/>\n",
              "    <path d=\"M18.56 5.44l.94 2.06.94-2.06 2.06-.94-2.06-.94-.94-2.06-.94 2.06-2.06.94zm-11 1L8.5 8.5l.94-2.06 2.06-.94-2.06-.94L8.5 2.5l-.94 2.06-2.06.94zm10 10l.94 2.06.94-2.06 2.06-.94-2.06-.94-.94-2.06-.94 2.06-2.06.94z\"/><path d=\"M17.41 7.96l-1.37-1.37c-.4-.4-.92-.59-1.43-.59-.52 0-1.04.2-1.43.59L10.3 9.45l-7.72 7.72c-.78.78-.78 2.05 0 2.83L4 21.41c.39.39.9.59 1.41.59.51 0 1.02-.2 1.41-.59l7.78-7.78 2.81-2.81c.8-.78.8-2.07 0-2.86zM5.41 20L4 18.59l7.72-7.72 1.47 1.35L5.41 20z\"/>\n",
              "  </svg>\n",
              "      </button>\n",
              "      \n",
              "  <style>\n",
              "    .colab-df-container {\n",
              "      display:flex;\n",
              "      flex-wrap:wrap;\n",
              "      gap: 12px;\n",
              "    }\n",
              "\n",
              "    .colab-df-convert {\n",
              "      background-color: #E8F0FE;\n",
              "      border: none;\n",
              "      border-radius: 50%;\n",
              "      cursor: pointer;\n",
              "      display: none;\n",
              "      fill: #1967D2;\n",
              "      height: 32px;\n",
              "      padding: 0 0 0 0;\n",
              "      width: 32px;\n",
              "    }\n",
              "\n",
              "    .colab-df-convert:hover {\n",
              "      background-color: #E2EBFA;\n",
              "      box-shadow: 0px 1px 2px rgba(60, 64, 67, 0.3), 0px 1px 3px 1px rgba(60, 64, 67, 0.15);\n",
              "      fill: #174EA6;\n",
              "    }\n",
              "\n",
              "    [theme=dark] .colab-df-convert {\n",
              "      background-color: #3B4455;\n",
              "      fill: #D2E3FC;\n",
              "    }\n",
              "\n",
              "    [theme=dark] .colab-df-convert:hover {\n",
              "      background-color: #434B5C;\n",
              "      box-shadow: 0px 1px 3px 1px rgba(0, 0, 0, 0.15);\n",
              "      filter: drop-shadow(0px 1px 2px rgba(0, 0, 0, 0.3));\n",
              "      fill: #FFFFFF;\n",
              "    }\n",
              "  </style>\n",
              "\n",
              "      <script>\n",
              "        const buttonEl =\n",
              "          document.querySelector('#df-9b78f180-4bf3-4dfe-8c07-ae86e2528b04 button.colab-df-convert');\n",
              "        buttonEl.style.display =\n",
              "          google.colab.kernel.accessAllowed ? 'block' : 'none';\n",
              "\n",
              "        async function convertToInteractive(key) {\n",
              "          const element = document.querySelector('#df-9b78f180-4bf3-4dfe-8c07-ae86e2528b04');\n",
              "          const dataTable =\n",
              "            await google.colab.kernel.invokeFunction('convertToInteractive',\n",
              "                                                     [key], {});\n",
              "          if (!dataTable) return;\n",
              "\n",
              "          const docLinkHtml = 'Like what you see? Visit the ' +\n",
              "            '<a target=\"_blank\" href=https://colab.research.google.com/notebooks/data_table.ipynb>data table notebook</a>'\n",
              "            + ' to learn more about interactive tables.';\n",
              "          element.innerHTML = '';\n",
              "          dataTable['output_type'] = 'display_data';\n",
              "          await google.colab.output.renderOutput(dataTable, element);\n",
              "          const docLink = document.createElement('div');\n",
              "          docLink.innerHTML = docLinkHtml;\n",
              "          element.appendChild(docLink);\n",
              "        }\n",
              "      </script>\n",
              "    </div>\n",
              "  </div>\n",
              "  "
            ]
          },
          "metadata": {},
          "execution_count": 33
        }
      ]
    },
    {
      "cell_type": "code",
      "source": [
        "# Prepare Data\n",
        "scaler = MinMaxScaler(feature_range=(0,1))\n",
        "scaled_data = scaler.fit_transform(data['Close'].values.reshape(-1,1))\n",
        "\n",
        "prediction_days = 60\n",
        "\n",
        "x_train = []\n",
        "y_train = []\n",
        "\n",
        "for x in range(prediction_days, len(scaled_data)):\n",
        "    x_train.append(scaled_data[x-prediction_days:x, 0])\n",
        "    y_train.append(scaled_data[x, 0])\n",
        "\n",
        "# Convert to numpy array\n",
        "x_train, y_train = np.array(x_train), np.array(y_train)\n",
        "x_train = np.reshape(x_train, (x_train.shape[0], x_train.shape[1], 1))\n"
      ],
      "metadata": {
        "id": "tAdGTObbMSI8"
      },
      "execution_count": 34,
      "outputs": []
    },
    {
      "cell_type": "code",
      "source": [
        "# Build The Model\n",
        "model =Sequential()\n",
        "\n",
        "model.add(LSTM(units=50, return_sequences=True, input_shape=(x_train.shape[1], 1)))\n",
        "model.add(Dropout(0.2))\n",
        "model.add(LSTM(units=50, return_sequences=True))\n",
        "model.add(Dropout(0.2))\n",
        "model.add(LSTM(units=50))\n",
        "model.add(Dropout(0.2))\n",
        "model.add(Dense(units=1)) # Prediction of the next closing value\n",
        "\n",
        "model.compile(optimizer='adam', loss='mean_squared_error')\n",
        "model.fit(x_train, y_train, epochs=25, batch_size=32)\n"
      ],
      "metadata": {
        "colab": {
          "base_uri": "https://localhost:8080/"
        },
        "id": "hhE5D3Q6NuNp",
        "outputId": "b37e4319-ad2e-4f2e-9bfa-ef5f816e4c52"
      },
      "execution_count": 35,
      "outputs": [
        {
          "output_type": "stream",
          "name": "stdout",
          "text": [
            "Epoch 1/25\n",
            "64/64 [==============================] - 9s 66ms/step - loss: 0.0124\n",
            "Epoch 2/25\n",
            "64/64 [==============================] - 5s 73ms/step - loss: 0.0040\n",
            "Epoch 3/25\n",
            "64/64 [==============================] - 4s 66ms/step - loss: 0.0030\n",
            "Epoch 4/25\n",
            "64/64 [==============================] - 4s 66ms/step - loss: 0.0027\n",
            "Epoch 5/25\n",
            "64/64 [==============================] - 5s 76ms/step - loss: 0.0025\n",
            "Epoch 6/25\n",
            "64/64 [==============================] - 4s 66ms/step - loss: 0.0024\n",
            "Epoch 7/25\n",
            "64/64 [==============================] - 4s 66ms/step - loss: 0.0022\n",
            "Epoch 8/25\n",
            "64/64 [==============================] - 5s 74ms/step - loss: 0.0023\n",
            "Epoch 9/25\n",
            "64/64 [==============================] - 4s 65ms/step - loss: 0.0022\n",
            "Epoch 10/25\n",
            "64/64 [==============================] - 5s 71ms/step - loss: 0.0022\n",
            "Epoch 11/25\n",
            "64/64 [==============================] - 4s 68ms/step - loss: 0.0019\n",
            "Epoch 12/25\n",
            "64/64 [==============================] - 4s 65ms/step - loss: 0.0019\n",
            "Epoch 13/25\n",
            "64/64 [==============================] - 5s 75ms/step - loss: 0.0019\n",
            "Epoch 14/25\n",
            "64/64 [==============================] - 4s 66ms/step - loss: 0.0016\n",
            "Epoch 15/25\n",
            "64/64 [==============================] - 4s 65ms/step - loss: 0.0019\n",
            "Epoch 16/25\n",
            "64/64 [==============================] - 5s 74ms/step - loss: 0.0016\n",
            "Epoch 17/25\n",
            "64/64 [==============================] - 4s 66ms/step - loss: 0.0017\n",
            "Epoch 18/25\n",
            "64/64 [==============================] - 5s 71ms/step - loss: 0.0017\n",
            "Epoch 19/25\n",
            "64/64 [==============================] - 5s 70ms/step - loss: 0.0015\n",
            "Epoch 20/25\n",
            "64/64 [==============================] - 4s 66ms/step - loss: 0.0016\n",
            "Epoch 21/25\n",
            "64/64 [==============================] - 5s 74ms/step - loss: 0.0016\n",
            "Epoch 22/25\n",
            "64/64 [==============================] - 4s 67ms/step - loss: 0.0015\n",
            "Epoch 23/25\n",
            "64/64 [==============================] - 4s 66ms/step - loss: 0.0014\n",
            "Epoch 24/25\n",
            "64/64 [==============================] - 5s 74ms/step - loss: 0.0018\n",
            "Epoch 25/25\n",
            "64/64 [==============================] - 4s 65ms/step - loss: 0.0014\n"
          ]
        },
        {
          "output_type": "execute_result",
          "data": {
            "text/plain": [
              "<keras.callbacks.History at 0x7fb33ef5dc90>"
            ]
          },
          "metadata": {},
          "execution_count": 35
        }
      ]
    },
    {
      "cell_type": "code",
      "source": [
        "''' Test The Model Accuracy on Existing Data '''\n",
        "\n",
        "# Load Test Data\n",
        "test_start = dt.datetime(2020,6,1)\n",
        "test_end = dt.datetime.now()\n",
        "\n",
        "test_data = web.download(company, test_start, test_end)\n",
        "actual_prices = test_data['Close'].values\n",
        "\n",
        "total_dataset = pd.concat((data['Close'], test_data['Close']), axis=0)\n",
        "\n",
        "model_inputs = total_dataset[len(total_dataset) - len(test_data) - prediction_days:].values\n",
        "model_inputs = model_inputs.reshape(-1,1)\n",
        "model_inputs = scaler.transform(model_inputs)\n",
        "\n",
        "# Make Predictions on Test Data\n",
        "\n",
        "x_test = []\n",
        "\n",
        "for x in range(prediction_days, len(model_inputs)):\n",
        "    x_test.append(model_inputs[x-prediction_days:x, 0])\n",
        "\n",
        "x_test = np.array(x_test)\n",
        "x_test = np.reshape(x_test, (x_test.shape[0], x_test.shape[1], 1))\n",
        "\n",
        "predicted_prices = model.predict(x_test)\n",
        "predicted_prices = scaler.inverse_transform(predicted_prices)\n",
        "\n",
        "\n"
      ],
      "metadata": {
        "colab": {
          "base_uri": "https://localhost:8080/"
        },
        "id": "VpYGOgMp6Kra",
        "outputId": "16d2ac9d-29f7-45f5-c6a1-56890a57da1f"
      },
      "execution_count": 36,
      "outputs": [
        {
          "output_type": "stream",
          "name": "stdout",
          "text": [
            "[*********************100%***********************]  1 of 1 completed\n",
            "24/24 [==============================] - 1s 17ms/step\n"
          ]
        }
      ]
    },
    {
      "cell_type": "code",
      "source": [
        "# Plot The Test Predictions\n",
        "plt.plot(actual_prices, color=\"black\", label=f\"Actual {company} Price\")\n",
        "plt.plot(predicted_prices, color=\"green\", label=f\"Predicted {company} Price\")\n",
        "plt.title(f\"{company} Share Price\")\n",
        "plt.xlabel(\"Time\")\n",
        "plt.ylabel(f\"{company} Share Price\")\n",
        "plt.legend()\n",
        "plt.show()"
      ],
      "metadata": {
        "colab": {
          "base_uri": "https://localhost:8080/",
          "height": 472
        },
        "id": "DkXXYbuC_NnO",
        "outputId": "17b3a8bd-40e6-477c-cb19-f4f058914017"
      },
      "execution_count": 37,
      "outputs": [
        {
          "output_type": "display_data",
          "data": {
            "text/plain": [
              "<Figure size 640x480 with 1 Axes>"
            ],
            "image/png": "[encoded data removed]"
          },
          "metadata": {}
        }
      ]
    },
    {
      "cell_type": "code",
      "source": [
        "# Predict Netxt Day\n",
        "real_data = [model_inputs[len(model_inputs) + 1 - prediction_days:len(model_inputs+1), 0]]\n",
        "real_data = np.array(real_data)\n",
        "real_data = np.reshape(real_data, (real_data.shape[0], real_data.shape[1],1))\n",
        "\n",
        "print(scaler.inverse_transform(real_data[-1]))"
      ],
      "metadata": {
        "colab": {
          "base_uri": "https://localhost:8080/"
        },
        "id": "e0RklJceFdXv",
        "outputId": "7e2fadde-056a-4f5f-e825-7a331d304a43"
      },
      "execution_count": 41,
      "outputs": [
        {
          "output_type": "stream",
          "name": "stdout",
          "text": [
            "[[28.23999977]\n",
            " [27.72999954]\n",
            " [27.79999924]\n",
            " [28.54999924]\n",
            " [28.63999939]\n",
            " [28.85000038]\n",
            " [28.20000076]\n",
            " [27.61000061]\n",
            " [26.05999947]\n",
            " [25.46999931]\n",
            " [25.61000061]\n",
            " [25.13999939]\n",
            " [24.89999962]\n",
            " [24.93000031]\n",
            " [25.32999992]\n",
            " [26.20000076]\n",
            " [26.39999962]\n",
            " [25.98999977]\n",
            " [25.53000069]\n",
            " [25.97999954]\n",
            " [26.44000053]\n",
            " [27.21999931]\n",
            " [26.95000076]\n",
            " [28.01000023]\n",
            " [28.40999985]\n",
            " [30.18000031]\n",
            " [29.80999947]\n",
            " [29.15999985]\n",
            " [28.45999908]\n",
            " [28.12999916]\n",
            " [29.03000069]\n",
            " [29.36000061]\n",
            " [29.18000031]\n",
            " [29.29000092]\n",
            " [31.52000046]\n",
            " [32.09000015]\n",
            " [32.66999817]\n",
            " [32.88999939]\n",
            " [33.09999847]\n",
            " [32.83000183]\n",
            " [32.81000137]\n",
            " [32.52000046]\n",
            " [32.34999847]\n",
            " [32.02000046]\n",
            " [32.13000107]\n",
            " [31.88999939]\n",
            " [32.13999939]\n",
            " [31.82999992]\n",
            " [31.14999962]\n",
            " [30.86000061]\n",
            " [30.29999924]\n",
            " [29.65999985]\n",
            " [28.87999916]\n",
            " [29.04999924]\n",
            " [29.86000061]\n",
            " [31.05999947]\n",
            " [30.29999924]\n",
            " [29.77000046]\n",
            " [30.34499931]]\n"
          ]
        }
      ]
    },
    {
      "cell_type": "code",
      "source": [
        "prediction = model.predict(real_data)\n",
        "prediction = scaler.inverse_transform(prediction)\n",
        "print(f\"Prediction: {prediction}\")"
      ],
      "metadata": {
        "colab": {
          "base_uri": "https://localhost:8080/"
        },
        "id": "JPWCYA3aLYlr",
        "outputId": "b6a354e9-6dfd-4fd8-b65d-56c98d59ec2a"
      },
      "execution_count": 42,
      "outputs": [
        {
          "output_type": "stream",
          "name": "stdout",
          "text": [
            "1/1 [==============================] - 0s 32ms/step\n",
            "Prediction: [[29.318386]]\n"
          ]
        }
      ]
    }
  ]
}